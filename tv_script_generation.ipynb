{
  "nbformat": 4,
  "nbformat_minor": 0,
  "metadata": {
    "colab": {
      "name": "tv_script_generation.ipynb",
      "version": "0.3.2",
      "provenance": [],
      "collapsed_sections": [],
      "include_colab_link": true
    },
    "kernelspec": {
      "name": "python3",
      "display_name": "Python 3"
    },
    "accelerator": "GPU"
  },
  "cells": [
    {
      "cell_type": "markdown",
      "metadata": {
        "id": "view-in-github",
        "colab_type": "text"
      },
      "source": [
        "<a href=\"https://colab.research.google.com/github/pratyakshajha/project-tv-script-generation/blob/master/tv_script_generation.ipynb\" target=\"_parent\"><img src=\"https://colab.research.google.com/assets/colab-badge.svg\" alt=\"Open In Colab\"/></a>"
      ]
    },
    {
      "metadata": {
        "id": "jQ0DsLOCOiT4",
        "colab_type": "code",
        "outputId": "8f3aa74d-189a-437e-a575-e5ff07516c16",
        "colab": {
          "base_uri": "https://localhost:8080/",
          "height": 119
        }
      },
      "cell_type": "code",
      "source": [
        "!git clone https://github.com/pratyakshajha/project-tv-script-generation.git"
      ],
      "execution_count": 1,
      "outputs": [
        {
          "output_type": "stream",
          "text": [
            "Cloning into 'project-tv-script-generation'...\n",
            "remote: Enumerating objects: 49, done.\u001b[K\n",
            "remote: Counting objects:   2% (1/49)   \u001b[K\rremote: Counting objects:   4% (2/49)   \u001b[K\rremote: Counting objects:   6% (3/49)   \u001b[K\rremote: Counting objects:   8% (4/49)   \u001b[K\rremote: Counting objects:  10% (5/49)   \u001b[K\rremote: Counting objects:  12% (6/49)   \u001b[K\rremote: Counting objects:  14% (7/49)   \u001b[K\rremote: Counting objects:  16% (8/49)   \u001b[K\rremote: Counting objects:  18% (9/49)   \u001b[K\rremote: Counting objects:  20% (10/49)   \u001b[K\rremote: Counting objects:  22% (11/49)   \u001b[K\rremote: Counting objects:  24% (12/49)   \u001b[K\rremote: Counting objects:  26% (13/49)   \u001b[K\rremote: Counting objects:  28% (14/49)   \u001b[K\rremote: Counting objects:  30% (15/49)   \u001b[K\rremote: Counting objects:  32% (16/49)   \u001b[K\rremote: Counting objects:  34% (17/49)   \u001b[K\rremote: Counting objects:  36% (18/49)   \u001b[K\rremote: Counting objects:  38% (19/49)   \u001b[K\rremote: Counting objects:  40% (20/49)   \u001b[K\rremote: Counting objects:  42% (21/49)   \u001b[K\rremote: Counting objects:  44% (22/49)   \u001b[K\rremote: Counting objects:  46% (23/49)   \u001b[K\rremote: Counting objects:  48% (24/49)   \u001b[K\rremote: Counting objects:  51% (25/49)   \u001b[K\rremote: Counting objects:  53% (26/49)   \u001b[K\rremote: Counting objects:  55% (27/49)   \u001b[K\rremote: Counting objects:  57% (28/49)   \u001b[K\rremote: Counting objects:  59% (29/49)   \u001b[K\rremote: Counting objects:  61% (30/49)   \u001b[K\rremote: Counting objects:  63% (31/49)   \u001b[K\rremote: Counting objects:  65% (32/49)   \u001b[K\rremote: Counting objects:  67% (33/49)   \u001b[K\rremote: Counting objects:  69% (34/49)   \u001b[K\rremote: Counting objects:  71% (35/49)   \u001b[K\rremote: Counting objects:  73% (36/49)   \u001b[K\rremote: Counting objects:  75% (37/49)   \u001b[K\rremote: Counting objects:  77% (38/49)   \u001b[K\rremote: Counting objects:  79% (39/49)   \u001b[K\rremote: Counting objects:  81% (40/49)   \u001b[K\rremote: Counting objects:  83% (41/49)   \u001b[K\rremote: Counting objects:  85% (42/49)   \u001b[K\rremote: Counting objects:  87% (43/49)   \u001b[K\rremote: Counting objects:  89% (44/49)   \u001b[K\rremote: Counting objects:  91% (45/49)   \u001b[K\rremote: Counting objects:  93% (46/49)   \u001b[K\rremote: Counting objects:  95% (47/49)   \u001b[K\rremote: Counting objects:  97% (48/49)   \u001b[K\rremote: Counting objects: 100% (49/49)   \u001b[K\rremote: Counting objects: 100% (49/49), done.\u001b[K\n",
            "remote: Compressing objects:   2% (1/47)   \u001b[K\rremote: Compressing objects:   4% (2/47)   \u001b[K\rremote: Compressing objects:   6% (3/47)   \u001b[K\rremote: Compressing objects:   8% (4/47)   \u001b[K\rremote: Compressing objects:  10% (5/47)   \u001b[K\rremote: Compressing objects:  12% (6/47)   \u001b[K\rremote: Compressing objects:  14% (7/47)   \u001b[K\rremote: Compressing objects:  17% (8/47)   \u001b[K\rremote: Compressing objects:  19% (9/47)   \u001b[K\rremote: Compressing objects:  21% (10/47)   \u001b[K\rremote: Compressing objects:  23% (11/47)   \u001b[K\rremote: Compressing objects:  25% (12/47)   \u001b[K\rremote: Compressing objects:  27% (13/47)   \u001b[K\rremote: Compressing objects:  29% (14/47)   \u001b[K\rremote: Compressing objects:  31% (15/47)   \u001b[K\rremote: Compressing objects:  34% (16/47)   \u001b[K\rremote: Compressing objects:  36% (17/47)   \u001b[K\rremote: Compressing objects:  38% (18/47)   \u001b[K\rremote: Compressing objects:  40% (19/47)   \u001b[K\rremote: Compressing objects:  42% (20/47)   \u001b[K\rremote: Compressing objects:  44% (21/47)   \u001b[K\rremote: Compressing objects:  46% (22/47)   \u001b[K\rremote: Compressing objects:  48% (23/47)   \u001b[K\rremote: Compressing objects:  51% (24/47)   \u001b[K\rremote: Compressing objects:  53% (25/47)   \u001b[K\rremote: Compressing objects:  55% (26/47)   \u001b[K\rremote: Compressing objects:  57% (27/47)   \u001b[K\rremote: Compressing objects:  59% (28/47)   \u001b[K\rremote: Compressing objects:  61% (29/47)   \u001b[K\rremote: Compressing objects:  63% (30/47)   \u001b[K\rremote: Compressing objects:  65% (31/47)   \u001b[K\rremote: Compressing objects:  68% (32/47)   \u001b[K\rremote: Compressing objects:  70% (33/47)   \u001b[K\rremote: Compressing objects:  72% (34/47)   \u001b[K\rremote: Compressing objects:  74% (35/47)   \u001b[K\rremote: Compressing objects:  76% (36/47)   \u001b[K\rremote: Compressing objects:  78% (37/47)   \u001b[K\rremote: Compressing objects:  80% (38/47)   \u001b[K\rremote: Compressing objects:  82% (39/47)   \u001b[K\rremote: Compressing objects:  85% (40/47)   \u001b[K\rremote: Compressing objects:  87% (41/47)   \u001b[K\rremote: Compressing objects:  89% (42/47)   \u001b[K\rremote: Compressing objects:  91% (43/47)   \u001b[K\rremote: Compressing objects:  93% (44/47)   \u001b[K\rremote: Compressing objects:  95% (45/47)   \u001b[K\rremote: Compressing objects:  97% (46/47)   \u001b[K\rremote: Compressing objects: 100% (47/47)   \u001b[K\rremote: Compressing objects: 100% (47/47), done.\u001b[K\n",
            "Unpacking objects:   2% (1/49)   \rUnpacking objects:   4% (2/49)   \rUnpacking objects:   6% (3/49)   \rUnpacking objects:   8% (4/49)   \rUnpacking objects:  10% (5/49)   \rUnpacking objects:  12% (6/49)   \rUnpacking objects:  14% (7/49)   \rUnpacking objects:  16% (8/49)   \rUnpacking objects:  18% (9/49)   \rUnpacking objects:  20% (10/49)   \rUnpacking objects:  22% (11/49)   \rUnpacking objects:  24% (12/49)   \rUnpacking objects:  26% (13/49)   \rUnpacking objects:  28% (14/49)   \rUnpacking objects:  30% (15/49)   \rUnpacking objects:  32% (16/49)   \rUnpacking objects:  34% (17/49)   \rUnpacking objects:  36% (18/49)   \rUnpacking objects:  38% (19/49)   \rUnpacking objects:  40% (20/49)   \rremote: Total 49 (delta 22), reused 0 (delta 0), pack-reused 0\u001b[K\n",
            "Unpacking objects:  42% (21/49)   \rUnpacking objects:  44% (22/49)   \rUnpacking objects:  46% (23/49)   \rUnpacking objects:  48% (24/49)   \rUnpacking objects:  51% (25/49)   \rUnpacking objects:  53% (26/49)   \rUnpacking objects:  55% (27/49)   \rUnpacking objects:  57% (28/49)   \rUnpacking objects:  59% (29/49)   \rUnpacking objects:  61% (30/49)   \rUnpacking objects:  63% (31/49)   \rUnpacking objects:  65% (32/49)   \rUnpacking objects:  67% (33/49)   \rUnpacking objects:  69% (34/49)   \rUnpacking objects:  71% (35/49)   \rUnpacking objects:  73% (36/49)   \rUnpacking objects:  75% (37/49)   \rUnpacking objects:  77% (38/49)   \rUnpacking objects:  79% (39/49)   \rUnpacking objects:  81% (40/49)   \rUnpacking objects:  83% (41/49)   \rUnpacking objects:  85% (42/49)   \rUnpacking objects:  87% (43/49)   \rUnpacking objects:  89% (44/49)   \rUnpacking objects:  91% (45/49)   \rUnpacking objects:  93% (46/49)   \rUnpacking objects:  95% (47/49)   \rUnpacking objects:  97% (48/49)   \rUnpacking objects: 100% (49/49)   \rUnpacking objects: 100% (49/49), done.\n"
          ],
          "name": "stdout"
        }
      ]
    },
    {
      "metadata": {
        "id": "0oEsEAO1Ov2_",
        "colab_type": "code",
        "colab": {}
      },
      "cell_type": "code",
      "source": [
        "import os\n",
        "os.chdir('project-tv-script-generation')"
      ],
      "execution_count": 0,
      "outputs": []
    },
    {
      "metadata": {
        "id": "UWj5dLqgMgCG",
        "colab_type": "text"
      },
      "cell_type": "markdown",
      "source": [
        "# TV Script Generation\n",
        "\n",
        "In this project, you'll generate your own [Seinfeld](https://en.wikipedia.org/wiki/Seinfeld) TV scripts using RNNs.  You'll be using part of the [Seinfeld dataset](https://www.kaggle.com/thec03u5/seinfeld-chronicles#scripts.csv) of scripts from 9 seasons.  The Neural Network you'll build will generate a new ,\"fake\" TV script, based on patterns it recognizes in this training data.\n",
        "\n",
        "## Get the Data\n",
        "\n",
        "The data is already provided for you in `./data/Seinfeld_Scripts.txt` and you're encouraged to open that file and look at the text. \n",
        ">* As a first step, we'll load in this data and look at some samples. \n",
        "* Then, you'll be tasked with defining and training an RNN to generate a new script!"
      ]
    },
    {
      "metadata": {
        "id": "WiLsakUkMgCI",
        "colab_type": "code",
        "colab": {}
      },
      "cell_type": "code",
      "source": [
        "\"\"\"\n",
        "DON'T MODIFY ANYTHING IN THIS CELL\n",
        "\"\"\"\n",
        "# load in data\n",
        "import helper\n",
        "data_dir = './data/Seinfeld_Scripts.txt'\n",
        "text = helper.load_data(data_dir)"
      ],
      "execution_count": 0,
      "outputs": []
    },
    {
      "metadata": {
        "id": "piKmlW-TMgCL",
        "colab_type": "text"
      },
      "cell_type": "markdown",
      "source": [
        "## Explore the Data\n",
        "Play around with `view_line_range` to view different parts of the data. This will give you a sense of the data you'll be working with. You can see, for example, that it is all lowercase text, and each new line of dialogue is separated by a newline character `\\n`."
      ]
    },
    {
      "metadata": {
        "id": "A1_oasxAMgCM",
        "colab_type": "code",
        "outputId": "58a7ebc7-e31a-4f3d-c741-e3dc3efc18ef",
        "colab": {
          "base_uri": "https://localhost:8080/",
          "height": 309
        }
      },
      "cell_type": "code",
      "source": [
        "view_line_range = (0, 10)\n",
        "\n",
        "\"\"\"\n",
        "DON'T MODIFY ANYTHING IN THIS CELL THAT IS BELOW THIS LINE\n",
        "\"\"\"\n",
        "import numpy as np\n",
        "\n",
        "print('Dataset Stats')\n",
        "print('Roughly the number of unique words: {}'.format(len({word: None for word in text.split()})))\n",
        "\n",
        "lines = text.split('\\n')\n",
        "print('Number of lines: {}'.format(len(lines)))\n",
        "word_count_line = [len(line.split()) for line in lines]\n",
        "print('Average number of words in each line: {}'.format(np.average(word_count_line)))\n",
        "\n",
        "print()\n",
        "print('The lines {} to {}:'.format(*view_line_range))\n",
        "print('\\n'.join(text.split('\\n')[view_line_range[0]:view_line_range[1]]))"
      ],
      "execution_count": 4,
      "outputs": [
        {
          "output_type": "stream",
          "text": [
            "Dataset Stats\n",
            "Roughly the number of unique words: 46367\n",
            "Number of lines: 109233\n",
            "Average number of words in each line: 5.544240293684143\n",
            "\n",
            "The lines 0 to 10:\n",
            "jerry: do you know what this is all about? do you know, why were here? to be out, this is out...and out is one of the single most enjoyable experiences of life. people...did you ever hear people talking about we should go out? this is what theyre talking about...this whole thing, were all out now, no one is home. not one person here is home, were all out! there are people trying to find us, they dont know where we are. (on an imaginary phone) did you ring?, i cant find him. where did he go? he didnt tell me where he was going. he must have gone out. you wanna go out you get ready, you pick out the clothes, right? you take the shower, you get all ready, get the cash, get your friends, the car, the spot, the reservation...then youre standing around, what do you do? you go we gotta be getting back. once youre out, you wanna get back! you wanna go to sleep, you wanna get up, you wanna go out again tomorrow, right? where ever you are in life, its my feeling, youve gotta go. \n",
            "\n",
            "jerry: (pointing at georges shirt) see, to me, that button is in the worst possible spot. the second button literally makes or breaks the shirt, look at it. its too high! its in no-mans-land. you look like you live with your mother. \n",
            "\n",
            "george: are you through? \n",
            "\n",
            "jerry: you do of course try on, when you buy? \n",
            "\n",
            "george: yes, it was purple, i liked it, i dont actually recall considering the buttons. \n",
            "\n"
          ],
          "name": "stdout"
        }
      ]
    },
    {
      "metadata": {
        "id": "SkjaqRl_MgCQ",
        "colab_type": "text"
      },
      "cell_type": "markdown",
      "source": [
        "---\n",
        "## Implement Pre-processing Functions\n",
        "The first thing to do to any dataset is pre-processing.  Implement the following pre-processing functions below:\n",
        "- Lookup Table\n",
        "- Tokenize Punctuation\n",
        "\n",
        "### Lookup Table\n",
        "To create a word embedding, you first need to transform the words to ids.  In this function, create two dictionaries:\n",
        "- Dictionary to go from the words to an id, we'll call `vocab_to_int`\n",
        "- Dictionary to go from the id to word, we'll call `int_to_vocab`\n",
        "\n",
        "Return these dictionaries in the following **tuple** `(vocab_to_int, int_to_vocab)`"
      ]
    },
    {
      "metadata": {
        "id": "Q2y0AYxGMgCQ",
        "colab_type": "code",
        "outputId": "702b6344-0598-49d6-909c-3f5fe4b4e275",
        "colab": {
          "base_uri": "https://localhost:8080/",
          "height": 34
        }
      },
      "cell_type": "code",
      "source": [
        "import problem_unittests as tests\n",
        "from collections import Counter\n",
        "\n",
        "def create_lookup_tables(text):\n",
        "    \"\"\"\n",
        "    Create lookup tables for vocabulary\n",
        "    :param text: The text of tv scripts split into words\n",
        "    :return: A tuple of dicts (vocab_to_int, int_to_vocab)\n",
        "    \"\"\"\n",
        "    # TODO: Implement Function\n",
        "    counts = Counter(text)\n",
        "    vocab = sorted(counts, key=counts.get, reverse=True)\n",
        "    vocab_to_int = {word: i for i, word in enumerate(vocab, 0)}\n",
        "    int_to_vocab = {i: word for i, word in enumerate(vocab, 0)}\n",
        "\n",
        "    # return tuple\n",
        "    return (vocab_to_int, int_to_vocab)\n",
        "\n",
        "\n",
        "\"\"\"\n",
        "DON'T MODIFY ANYTHING IN THIS CELL THAT IS BELOW THIS LINE\n",
        "\"\"\"\n",
        "tests.test_create_lookup_tables(create_lookup_tables)"
      ],
      "execution_count": 5,
      "outputs": [
        {
          "output_type": "stream",
          "text": [
            "Tests Passed\n"
          ],
          "name": "stdout"
        }
      ]
    },
    {
      "metadata": {
        "id": "9w9RMz4sMgCT",
        "colab_type": "text"
      },
      "cell_type": "markdown",
      "source": [
        "### Tokenize Punctuation\n",
        "We'll be splitting the script into a word array using spaces as delimiters.  However, punctuations like periods and exclamation marks can create multiple ids for the same word. For example, \"bye\" and \"bye!\" would generate two different word ids.\n",
        "\n",
        "Implement the function `token_lookup` to return a dict that will be used to tokenize symbols like \"!\" into \"||Exclamation_Mark||\".  Create a dictionary for the following symbols where the symbol is the key and value is the token:\n",
        "- Period ( **.** )\n",
        "- Comma ( **,** )\n",
        "- Quotation Mark ( **\"** )\n",
        "- Semicolon ( **;** )\n",
        "- Exclamation mark ( **!** )\n",
        "- Question mark ( **?** )\n",
        "- Left Parentheses ( **(** )\n",
        "- Right Parentheses ( **)** )\n",
        "- Dash ( **-** )\n",
        "- Return ( **\\n** )\n",
        "\n",
        "This dictionary will be used to tokenize the symbols and add the delimiter (space) around it.  This separates each symbols as its own word, making it easier for the neural network to predict the next word. Make sure you don't use a value that could be confused as a word; for example, instead of using the value \"dash\", try using something like \"||dash||\"."
      ]
    },
    {
      "metadata": {
        "id": "bRwlcblPMgCU",
        "colab_type": "code",
        "outputId": "785611fb-cd7d-40ff-9db3-a5c590253e24",
        "colab": {
          "base_uri": "https://localhost:8080/",
          "height": 34
        }
      },
      "cell_type": "code",
      "source": [
        "def token_lookup():\n",
        "    \"\"\"\n",
        "    Generate a dict to turn punctuation into a token.\n",
        "    :return: Tokenized dictionary where the key is the punctuation and the value is the token\n",
        "    \"\"\"\n",
        "    # TODO: Implement Function\n",
        "    token = {'.':'||Period||', ',':'||Comma||', '\\\"':'||Quotes||', \n",
        "             ';':'||SemiCol||', '!':'||Exclaim||', '?':'||Question||', \n",
        "             '(':'||LParanthesis||', ')':'||RParanthesis||', '-':'||Dash||', '\\n':'||Return||'}    \n",
        "    return token\n",
        "\n",
        "\"\"\"\n",
        "DON'T MODIFY ANYTHING IN THIS CELL THAT IS BELOW THIS LINE\n",
        "\"\"\"\n",
        "tests.test_tokenize(token_lookup)"
      ],
      "execution_count": 6,
      "outputs": [
        {
          "output_type": "stream",
          "text": [
            "Tests Passed\n"
          ],
          "name": "stdout"
        }
      ]
    },
    {
      "metadata": {
        "id": "pbALITKRMgCW",
        "colab_type": "text"
      },
      "cell_type": "markdown",
      "source": [
        "## Pre-process all the data and save it\n",
        "\n",
        "Running the code cell below will pre-process all the data and save it to file. You're encouraged to lok at the code for `preprocess_and_save_data` in the `helpers.py` file to see what it's doing in detail, but you do not need to change this code."
      ]
    },
    {
      "metadata": {
        "id": "wI-893FEMgCX",
        "colab_type": "code",
        "colab": {}
      },
      "cell_type": "code",
      "source": [
        "\"\"\"\n",
        "DON'T MODIFY ANYTHING IN THIS CELL\n",
        "\"\"\"\n",
        "# pre-process training data\n",
        "helper.preprocess_and_save_data(data_dir, token_lookup, create_lookup_tables)"
      ],
      "execution_count": 0,
      "outputs": []
    },
    {
      "metadata": {
        "id": "FIT8SKSmMgCZ",
        "colab_type": "text"
      },
      "cell_type": "markdown",
      "source": [
        "# Check Point\n",
        "This is your first checkpoint. If you ever decide to come back to this notebook or have to restart the notebook, you can start from here. The preprocessed data has been saved to disk."
      ]
    },
    {
      "metadata": {
        "id": "XPzf1uK8MgCa",
        "colab_type": "code",
        "colab": {}
      },
      "cell_type": "code",
      "source": [
        "\"\"\"\n",
        "DON'T MODIFY ANYTHING IN THIS CELL\n",
        "\"\"\"\n",
        "import helper\n",
        "import problem_unittests as tests\n",
        "\n",
        "int_text, vocab_to_int, int_to_vocab, token_dict = helper.load_preprocess()"
      ],
      "execution_count": 0,
      "outputs": []
    },
    {
      "metadata": {
        "id": "1d6tJ329MgCd",
        "colab_type": "text"
      },
      "cell_type": "markdown",
      "source": [
        "## Build the Neural Network\n",
        "In this section, you'll build the components necessary to build an RNN by implementing the RNN Module and forward and backpropagation functions.\n",
        "\n",
        "### Check Access to GPU"
      ]
    },
    {
      "metadata": {
        "id": "gnj1e3lRMgCe",
        "colab_type": "code",
        "colab": {}
      },
      "cell_type": "code",
      "source": [
        "\"\"\"\n",
        "DON'T MODIFY ANYTHING IN THIS CELL\n",
        "\"\"\"\n",
        "import torch\n",
        "\n",
        "# Check for a GPU\n",
        "train_on_gpu = torch.cuda.is_available()\n",
        "if not train_on_gpu:\n",
        "    print('No GPU found. Please use a GPU to train your neural network.')"
      ],
      "execution_count": 0,
      "outputs": []
    },
    {
      "metadata": {
        "id": "wS9CDX89MgCg",
        "colab_type": "text"
      },
      "cell_type": "markdown",
      "source": [
        "## Input\n",
        "Let's start with the preprocessed input data. We'll use [TensorDataset](http://pytorch.org/docs/master/data.html#torch.utils.data.TensorDataset) to provide a known format to our dataset; in combination with [DataLoader](http://pytorch.org/docs/master/data.html#torch.utils.data.DataLoader), it will handle batching, shuffling, and other dataset iteration functions.\n",
        "\n",
        "You can create data with TensorDataset by passing in feature and target tensors. Then create a DataLoader as usual.\n",
        "```\n",
        "data = TensorDataset(feature_tensors, target_tensors)\n",
        "data_loader = torch.utils.data.DataLoader(data, \n",
        "                                          batch_size=batch_size)\n",
        "```\n",
        "\n",
        "### Batching\n",
        "Implement the `batch_data` function to batch `words` data into chunks of size `batch_size` using the `TensorDataset` and `DataLoader` classes.\n",
        "\n",
        ">You can batch words using the DataLoader, but it will be up to you to create `feature_tensors` and `target_tensors` of the correct size and content for a given `sequence_length`.\n",
        "\n",
        "For example, say we have these as input:\n",
        "```\n",
        "words = [1, 2, 3, 4, 5, 6, 7]\n",
        "sequence_length = 4\n",
        "```\n",
        "\n",
        "Your first `feature_tensor` should contain the values:\n",
        "```\n",
        "[1, 2, 3, 4]\n",
        "```\n",
        "And the corresponding `target_tensor` should just be the next \"word\"/tokenized word value:\n",
        "```\n",
        "5\n",
        "```\n",
        "This should continue with the second `feature_tensor`, `target_tensor` being:\n",
        "```\n",
        "[2, 3, 4, 5]  # features\n",
        "6             # target\n",
        "```"
      ]
    },
    {
      "metadata": {
        "id": "pmX1g7qCMgCh",
        "colab_type": "code",
        "colab": {}
      },
      "cell_type": "code",
      "source": [
        "from torch.utils.data import TensorDataset, DataLoader\n",
        "import torch\n",
        "\n",
        "def batch_data(words, sequence_length, batch_size):\n",
        "    \"\"\"\n",
        "    Batch the neural network data using DataLoader\n",
        "    :param words: The word ids of the TV scripts\n",
        "    :param sequence_length: The sequence length of each batch\n",
        "    :param batch_size: The size of each batch; the number of sequences in a batch\n",
        "    :return: DataLoader with batched data\n",
        "    \"\"\"\n",
        "    # TODO: Implement function\n",
        "    words = list(words)\n",
        "    feature, target = [], []\n",
        "\n",
        "    for i in range(0, len(words) - (sequence_length+1)):\n",
        "      feature.append(words[i:i+sequence_length])\n",
        "      target.append(words[i+sequence_length])  \n",
        "      \n",
        "    feature, target = np.array(feature), np.array(target)\n",
        "\n",
        "    data = TensorDataset(torch.from_numpy(feature), torch.from_numpy(target))\n",
        "    loader = DataLoader(data, shuffle=True, batch_size=batch_size)\n",
        "    # return a dataloader\n",
        "    return loader\n",
        "\n",
        "# there is no test for this function, but you are encouraged to create\n",
        "# print statements and tests of your own\n"
      ],
      "execution_count": 0,
      "outputs": []
    },
    {
      "metadata": {
        "id": "KE2s33gLMgCk",
        "colab_type": "text"
      },
      "cell_type": "markdown",
      "source": [
        "### Test your dataloader \n",
        "\n",
        "You'll have to modify this code to test a batching function, but it should look fairly similar.\n",
        "\n",
        "Below, we're generating some test text data and defining a dataloader using the function you defined, above. Then, we are getting some sample batch of inputs `sample_x` and targets `sample_y` from our dataloader.\n",
        "\n",
        "Your code should return something like the following (likely in a different order, if you shuffled your data):\n",
        "\n",
        "```\n",
        "torch.Size([10, 5])\n",
        "tensor([[ 28,  29,  30,  31,  32],\n",
        "        [ 21,  22,  23,  24,  25],\n",
        "        [ 17,  18,  19,  20,  21],\n",
        "        [ 34,  35,  36,  37,  38],\n",
        "        [ 11,  12,  13,  14,  15],\n",
        "        [ 23,  24,  25,  26,  27],\n",
        "        [  6,   7,   8,   9,  10],\n",
        "        [ 38,  39,  40,  41,  42],\n",
        "        [ 25,  26,  27,  28,  29],\n",
        "        [  7,   8,   9,  10,  11]])\n",
        "\n",
        "torch.Size([10])\n",
        "tensor([ 33,  26,  22,  39,  16,  28,  11,  43,  30,  12])\n",
        "```\n",
        "\n",
        "### Sizes\n",
        "Your sample_x should be of size `(batch_size, sequence_length)` or (10, 5) in this case and sample_y should just have one dimension: batch_size (10). \n",
        "\n",
        "### Values\n",
        "\n",
        "You should also notice that the targets, sample_y, are the *next* value in the ordered test_text data. So, for an input sequence `[ 28,  29,  30,  31,  32]` that ends with the value `32`, the corresponding output should be `33`."
      ]
    },
    {
      "metadata": {
        "id": "-AWNlssvMgCl",
        "colab_type": "code",
        "outputId": "ccbd42f7-1852-4017-fe28-3e0b19debce2",
        "colab": {
          "base_uri": "https://localhost:8080/",
          "height": 255
        }
      },
      "cell_type": "code",
      "source": [
        "# test dataloader\n",
        "\n",
        "test_text = range(50)\n",
        "t_loader = batch_data(test_text, sequence_length=5, batch_size=10)\n",
        "\n",
        "data_iter = iter(t_loader)\n",
        "sample_x, sample_y = data_iter.next()\n",
        "\n",
        "print(sample_x.shape)\n",
        "print(sample_x)\n",
        "print()\n",
        "print(sample_y.shape)\n",
        "print(sample_y)"
      ],
      "execution_count": 11,
      "outputs": [
        {
          "output_type": "stream",
          "text": [
            "torch.Size([10, 5])\n",
            "tensor([[37, 38, 39, 40, 41],\n",
            "        [ 1,  2,  3,  4,  5],\n",
            "        [22, 23, 24, 25, 26],\n",
            "        [24, 25, 26, 27, 28],\n",
            "        [40, 41, 42, 43, 44],\n",
            "        [27, 28, 29, 30, 31],\n",
            "        [36, 37, 38, 39, 40],\n",
            "        [ 2,  3,  4,  5,  6],\n",
            "        [ 5,  6,  7,  8,  9],\n",
            "        [ 3,  4,  5,  6,  7]])\n",
            "\n",
            "torch.Size([10])\n",
            "tensor([42,  6, 27, 29, 45, 32, 41,  7, 10,  8])\n"
          ],
          "name": "stdout"
        }
      ]
    },
    {
      "metadata": {
        "id": "D9rdmyPbMgCn",
        "colab_type": "text"
      },
      "cell_type": "markdown",
      "source": [
        "---\n",
        "## Build the Neural Network\n",
        "Implement an RNN using PyTorch's [Module class](http://pytorch.org/docs/master/nn.html#torch.nn.Module). You may choose to use a GRU or an LSTM. To complete the RNN, you'll have to implement the following functions for the class:\n",
        " - `__init__` - The initialize function. \n",
        " - `init_hidden` - The initialization function for an LSTM/GRU hidden state\n",
        " - `forward` - Forward propagation function.\n",
        " \n",
        "The initialize function should create the layers of the neural network and save them to the class. The forward propagation function will use these layers to run forward propagation and generate an output and a hidden state.\n",
        "\n",
        "**The output of this model should be the *last* batch of word scores** after a complete sequence has been processed. That is, for each input sequence of words, we only want to output the word scores for a single, most likely, next word.\n",
        "\n",
        "### Hints\n",
        "\n",
        "1. Make sure to stack the outputs of the lstm to pass to your fully-connected layer, you can do this with `lstm_output = lstm_output.contiguous().view(-1, self.hidden_dim)`\n",
        "2. You can get the last batch of word scores by shaping the output of the final, fully-connected layer like so:\n",
        "\n",
        "```\n",
        "# reshape into (batch_size, seq_length, output_size)\n",
        "output = output.view(batch_size, -1, self.output_size)\n",
        "# get last batch\n",
        "out = output[:, -1]\n",
        "```"
      ]
    },
    {
      "metadata": {
        "id": "rOEn73WDMgCn",
        "colab_type": "code",
        "outputId": "b90ff315-9201-477c-bab6-c54e2d9604e6",
        "colab": {
          "base_uri": "https://localhost:8080/",
          "height": 34
        }
      },
      "cell_type": "code",
      "source": [
        "import torch.nn as nn\n",
        "\n",
        "class RNN(nn.Module):\n",
        "    \n",
        "    def __init__(self, vocab_size, output_size, embedding_dim, hidden_dim, n_layers, dropout=0.5):\n",
        "        \"\"\"\n",
        "        Initialize the PyTorch RNN Module\n",
        "        :param vocab_size: The number of input dimensions of the neural network (the size of the vocabulary)\n",
        "        :param output_size: The number of output dimensions of the neural network\n",
        "        :param embedding_dim: The size of embeddings, should you choose to use them        \n",
        "        :param hidden_dim: The size of the hidden layer outputs\n",
        "        :param dropout: dropout to add in between LSTM/GRU layers\n",
        "        \"\"\"\n",
        "        super(RNN, self).__init__()\n",
        "        # TODO: Implement function\n",
        "        # set class variables\n",
        "        self.output_size = output_size\n",
        "        self.n_layers = n_layers\n",
        "        self.hidden_dim = hidden_dim\n",
        "        \n",
        "        # define model layers\n",
        "        self.embedding = nn.Embedding(vocab_size, embedding_dim)\n",
        "        self.lstm = nn.LSTM(embedding_dim, hidden_dim, n_layers,\n",
        "                           dropout=dropout, batch_first=True)\n",
        "        self.dropout = nn.Dropout(dropout)                            \n",
        "        self.fc = nn.Linear(hidden_dim, output_size)\n",
        "       \n",
        "    def forward(self, nn_input, hidden):\n",
        "        \"\"\"\n",
        "        Forward propagation of the neural network\n",
        "        :param nn_input: The input to the neural network\n",
        "        :param hidden: The hidden state        \n",
        "        :return: Two Tensors, the output of the neural network and the latest hidden state\n",
        "        \"\"\"\n",
        "        # TODO: Implement function   \n",
        "        batch_size = nn_input.size(0)\n",
        "        \n",
        "        nn_input = nn_input.long()\n",
        "        embedings = self.embedding(nn_input)\n",
        "        lstm_out, hidden = self.lstm(embedings, hidden)\n",
        "        lstm_out = lstm_out.contiguous().view(-1, self.hidden_dim)\n",
        "        \n",
        "        out = self.dropout(lstm_out)\n",
        "        out = self.fc(out)\n",
        "        \n",
        "        # reshape into (batch_size, seq_length, output_size)\n",
        "        out = out.view(batch_size, -1, self.output_size)\n",
        "        # get last batch\n",
        "        out = out[:, -1]              \n",
        "\n",
        "        # return one batch of output word scores and the hidden state\n",
        "        return out, hidden\n",
        "    \n",
        "    \n",
        "    def init_hidden(self, batch_size):\n",
        "        '''\n",
        "        Initialize the hidden state of an LSTM/GRU\n",
        "        :param batch_size: The batch_size of the hidden state\n",
        "        :return: hidden state of dims (n_layers, batch_size, hidden_dim)\n",
        "        '''\n",
        "        # Implement function\n",
        "        weights = next(self.parameters()).data\n",
        "        # initialize hidden state with zero weights, and move to GPU if available\n",
        "        if(train_on_gpu):\n",
        "          hidden = (weights.new(self.n_layers, batch_size, self.hidden_dim).zero_().cuda(),\n",
        "                    weights.new(self.n_layers, batch_size, self.hidden_dim).zero_().cuda())\n",
        "        else:\n",
        "          hidden = (weights.new(self.n_layers, batch_size, self.hidden_dim).zero_(),\n",
        "                  weights.new(self.n_layers, batch_size, self.hidden_dim).zero_())            \n",
        "          \n",
        "        return hidden\n",
        "\n",
        "\"\"\"\n",
        "DON'T MODIFY ANYTHING IN THIS CELL THAT IS BELOW THIS LINE\n",
        "\"\"\"\n",
        "tests.test_rnn(RNN, train_on_gpu)"
      ],
      "execution_count": 12,
      "outputs": [
        {
          "output_type": "stream",
          "text": [
            "Tests Passed\n"
          ],
          "name": "stdout"
        }
      ]
    },
    {
      "metadata": {
        "id": "UfHXMWzoMgCq",
        "colab_type": "text"
      },
      "cell_type": "markdown",
      "source": [
        "### Define forward and backpropagation\n",
        "\n",
        "Use the RNN class you implemented to apply forward and back propagation. This function will be called, iteratively, in the training loop as follows:\n",
        "```\n",
        "loss = forward_back_prop(decoder, decoder_optimizer, criterion, inp, target)\n",
        "```\n",
        "\n",
        "And it should return the average loss over a batch and the hidden state returned by a call to `RNN(inp, hidden)`. Recall that you can get this loss by computing it, as usual, and calling `loss.item()`.\n",
        "\n",
        "**If a GPU is available, you should move your data to that GPU device, here.**"
      ]
    },
    {
      "metadata": {
        "id": "I04spLjyGdfs",
        "colab_type": "code",
        "colab": {}
      },
      "cell_type": "code",
      "source": [
        "def repackage_hidden(h):\n",
        "    \"\"\"Wraps hidden states in new Tensors, to detach them from their history.\"\"\"\n",
        "    if isinstance(h, torch.Tensor):\n",
        "        return h.detach()\n",
        "    else:\n",
        "        return tuple(repackage_hidden(v) for v in h)"
      ],
      "execution_count": 0,
      "outputs": []
    },
    {
      "metadata": {
        "id": "soN6q-BvHhDo",
        "colab_type": "text"
      },
      "cell_type": "markdown",
      "source": [
        "Was running out of memory pretty early on. Refered this: https://knowledge.udacity.com/questions/35691\n",
        "\n",
        "This function re-uses the hidden states, instead of creating them again in each batch. This considerable reduces GPU memory while training."
      ]
    },
    {
      "metadata": {
        "id": "YOBRNEZOMgCq",
        "colab_type": "code",
        "outputId": "cd7e3e3f-4ba1-46d0-b1c6-e9a286f574f7",
        "colab": {
          "base_uri": "https://localhost:8080/",
          "height": 34
        }
      },
      "cell_type": "code",
      "source": [
        "def forward_back_prop(rnn, optimizer, criterion, inp, target, hidden):\n",
        "    \"\"\"\n",
        "    Forward and backward propagation on the neural network\n",
        "    :param rnn: The PyTorch Module that holds the neural network\n",
        "    :param optimizer: The PyTorch optimizer for the neural network\n",
        "    :param criterion: The PyTorch loss function\n",
        "    :param inp: A batch of input to the neural network\n",
        "    :param target: The target output for the batch of input\n",
        "    :return: The loss and the latest hidden state Tensor\n",
        "    \"\"\"\n",
        "    \n",
        "    # TODO: Implement Function    \n",
        "    # move data to GPU, if available\n",
        "    if(train_on_gpu):\n",
        "      rnn.cuda()\n",
        "      inp, target = inp.cuda(), target.cuda()\n",
        "       \n",
        "   # h = tuple([each.data for each in hidden])\n",
        "    hidden = repackage_hidden(hidden)\n",
        "    rnn.zero_grad()\n",
        "    output, h = rnn.forward(inp, hidden)\n",
        "    \n",
        "    # perform backpropagation and optimization\n",
        "    loss = criterion(output.squeeze(), target)       \n",
        "    loss.backward(retain_graph=True)    \n",
        "    \n",
        "    clip = 5\n",
        "    nn.utils.clip_grad_norm_(rnn.parameters(), clip)\n",
        "    optimizer.step()       \n",
        "    \n",
        "    # return the loss over a batch and the hidden state produced by our model\n",
        "    return loss.item(), h\n",
        "\n",
        "# Note that these tests aren't completely extensive.\n",
        "# they are here to act as general checks on the expected outputs of your functions\n",
        "\"\"\"\n",
        "DON'T MODIFY ANYTHING IN THIS CELL THAT IS BELOW THIS LINE\n",
        "\"\"\"\n",
        "tests.test_forward_back_prop(RNN, forward_back_prop, train_on_gpu)"
      ],
      "execution_count": 14,
      "outputs": [
        {
          "output_type": "stream",
          "text": [
            "Tests Passed\n"
          ],
          "name": "stdout"
        }
      ]
    },
    {
      "metadata": {
        "id": "fof8u3tkMgCt",
        "colab_type": "text"
      },
      "cell_type": "markdown",
      "source": [
        "## Neural Network Training\n",
        "\n",
        "With the structure of the network complete and data ready to be fed in the neural network, it's time to train it.\n",
        "\n",
        "### Train Loop\n",
        "\n",
        "The training loop is implemented for you in the `train_decoder` function. This function will train the network over all the batches for the number of epochs given. The model progress will be shown every number of batches. This number is set with the `show_every_n_batches` parameter. You'll set this parameter along with other parameters in the next section."
      ]
    },
    {
      "metadata": {
        "id": "Ok50V233MgCu",
        "colab_type": "code",
        "colab": {}
      },
      "cell_type": "code",
      "source": [
        "\"\"\"\n",
        "DON'T MODIFY ANYTHING IN THIS CELL\n",
        "\"\"\"\n",
        "## Modification added: LR Schedular\n",
        "\n",
        "def train_rnn(rnn, batch_size, optimizer, criterion, sched, n_epochs, show_every_n_batches=100):\n",
        "    batch_losses = []    \n",
        "    rnn.train()\n",
        "\n",
        "    print(\"Training for %d epoch(s)...\" % n_epochs)\n",
        "    for epoch_i in range(1, n_epochs + 1):\n",
        "        \n",
        "        # initialize hidden state\n",
        "        hidden = rnn.init_hidden(batch_size)\n",
        "        \n",
        "        for batch_i, (inputs, labels) in enumerate(train_loader, 1):\n",
        "            \n",
        "            # make sure you iterate over completely full batches, only\n",
        "            n_batches = len(train_loader.dataset)//batch_size\n",
        "            if(batch_i > n_batches):\n",
        "                break\n",
        "            \n",
        "            # forward, back prop\n",
        "            loss, hidden = forward_back_prop(rnn, optimizer, criterion, inputs, labels, hidden)          \n",
        "            # record loss\n",
        "            batch_losses.append(loss)\n",
        "\n",
        "            # printing loss stats\n",
        "            if batch_i % show_every_n_batches == 0:\n",
        "                print('Epoch: {:>4}/{:<4}  Loss: {}\\n'.format(\n",
        "                    epoch_i, n_epochs, np.average(batch_losses)))\n",
        "                batch_losses = []\n",
        "\n",
        "    sched.step()\n",
        "    # returns a trained rnn\n",
        "    return rnn"
      ],
      "execution_count": 0,
      "outputs": []
    },
    {
      "metadata": {
        "id": "ZgCdMzT8MgCx",
        "colab_type": "text"
      },
      "cell_type": "markdown",
      "source": [
        "### Hyperparameters\n",
        "\n",
        "Set and train the neural network with the following parameters:\n",
        "- Set `sequence_length` to the length of a sequence.\n",
        "- Set `batch_size` to the batch size.\n",
        "- Set `num_epochs` to the number of epochs to train for.\n",
        "- Set `learning_rate` to the learning rate for an Adam optimizer.\n",
        "- Set `vocab_size` to the number of unique tokens in our vocabulary.\n",
        "- Set `output_size` to the desired size of the output.\n",
        "- Set `embedding_dim` to the embedding dimension; smaller than the vocab_size.\n",
        "- Set `hidden_dim` to the hidden dimension of your RNN.\n",
        "- Set `n_layers` to the number of layers/cells in your RNN.\n",
        "- Set `show_every_n_batches` to the number of batches at which the neural network should print progress.\n",
        "\n",
        "If the network isn't getting the desired results, tweak these parameters and/or the layers in the `RNN` class."
      ]
    },
    {
      "metadata": {
        "id": "PmtAhnGRMgCy",
        "colab_type": "code",
        "colab": {}
      },
      "cell_type": "code",
      "source": [
        "# Data params\n",
        "# Sequence Length\n",
        "sequence_length = 10  # of words in a sequence\n",
        "# Batch Size\n",
        "batch_size = 128\n",
        "\n",
        "# data loader - do not change\n",
        "train_loader = batch_data(int_text, sequence_length, batch_size)"
      ],
      "execution_count": 0,
      "outputs": []
    },
    {
      "metadata": {
        "id": "xMgFSeK4MgC1",
        "colab_type": "code",
        "colab": {}
      },
      "cell_type": "code",
      "source": [
        "# Training parameters\n",
        "# Number of Epochs\n",
        "num_epochs = 20\n",
        "# Learning Rate\n",
        "learning_rate = 0.001\n",
        "\n",
        "# Model parameters\n",
        "# Vocab size\n",
        "vocab_size = len(vocab_to_int)\n",
        "# Output size\n",
        "output_size = vocab_size\n",
        "# Embedding Dimension\n",
        "embedding_dim = 200\n",
        "# Hidden Dimension\n",
        "hidden_dim = 512\n",
        "# Number of RNN Layers\n",
        "n_layers = 2\n",
        "\n",
        "# Show stats for every n number of batches\n",
        "show_every_n_batches = 1000"
      ],
      "execution_count": 0,
      "outputs": []
    },
    {
      "metadata": {
        "id": "H7fZaIKtMgC7",
        "colab_type": "text"
      },
      "cell_type": "markdown",
      "source": [
        "### Train\n",
        "In the next cell, you'll train the neural network on the pre-processed data.  If you have a hard time getting a good loss, you may consider changing your hyperparameters. In general, you may get better results with larger hidden and n_layer dimensions, but larger models take a longer time to train. \n",
        "> **You should aim for a loss less than 3.5.** \n",
        "\n",
        "You should also experiment with different sequence lengths, which determine the size of the long range dependencies that a model can learn."
      ]
    },
    {
      "metadata": {
        "id": "zWOR_rI0MgC8",
        "colab_type": "code",
        "outputId": "3d7710d8-6cf7-41da-f460-de2be2d131d5",
        "colab": {
          "base_uri": "https://localhost:8080/",
          "height": 4151
        }
      },
      "cell_type": "code",
      "source": [
        "\"\"\"\n",
        "DON'T MODIFY ANYTHING IN THIS CELL\n",
        "\"\"\"\n",
        "\n",
        "## Modification added: LR Schedular\n",
        "from torch.optim import lr_scheduler\n",
        "\n",
        "# create model and move to gpu if available\n",
        "rnn = RNN(vocab_size, output_size, embedding_dim, hidden_dim, n_layers, dropout=0.5)\n",
        "if train_on_gpu:\n",
        "    rnn.cuda()\n",
        "\n",
        "# defining loss and optimization functions for training\n",
        "optimizer = torch.optim.Adam(rnn.parameters(), lr=learning_rate)\n",
        "criterion = nn.CrossEntropyLoss()\n",
        "# Learning Rate Schedular\n",
        "sched = lr_scheduler.StepLR(optimizer,step_size=8)\n",
        "\n",
        "# training the model\n",
        "trained_rnn = train_rnn(rnn, batch_size, optimizer, criterion, sched, num_epochs, show_every_n_batches)\n",
        "\n",
        "# saving the trained model\n",
        "helper.save_model('./save/trained_rnn', trained_rnn)\n",
        "print('Model Trained and Saved')"
      ],
      "execution_count": 32,
      "outputs": [
        {
          "output_type": "stream",
          "text": [
            "Training for 20 epoch(s)...\n",
            "Epoch:    1/20    Loss: 5.137913308143616\n",
            "\n",
            "Epoch:    1/20    Loss: 4.648482521295548\n",
            "\n",
            "Epoch:    1/20    Loss: 4.488843145132065\n",
            "\n",
            "Epoch:    1/20    Loss: 4.406103036165238\n",
            "\n",
            "Epoch:    1/20    Loss: 4.35915965628624\n",
            "\n",
            "Epoch:    1/20    Loss: 4.303229869127273\n",
            "\n",
            "Epoch:    2/20    Loss: 4.204806940273442\n",
            "\n",
            "Epoch:    2/20    Loss: 4.132743343114853\n",
            "\n",
            "Epoch:    2/20    Loss: 4.1184935185909275\n",
            "\n",
            "Epoch:    2/20    Loss: 4.118390794992447\n",
            "\n",
            "Epoch:    2/20    Loss: 4.109276594400406\n",
            "\n",
            "Epoch:    2/20    Loss: 4.100585144042968\n",
            "\n",
            "Epoch:    3/20    Loss: 4.0475881062164225\n",
            "\n",
            "Epoch:    3/20    Loss: 3.9892043426036836\n",
            "\n",
            "Epoch:    3/20    Loss: 3.993352198600769\n",
            "\n",
            "Epoch:    3/20    Loss: 3.986395169019699\n",
            "\n",
            "Epoch:    3/20    Loss: 4.0043299779891965\n",
            "\n",
            "Epoch:    3/20    Loss: 3.9900672364234926\n",
            "\n",
            "Epoch:    4/20    Loss: 3.938604015211819\n",
            "\n",
            "Epoch:    4/20    Loss: 3.9077036786079407\n",
            "\n",
            "Epoch:    4/20    Loss: 3.8973031697273255\n",
            "\n",
            "Epoch:    4/20    Loss: 3.9081108529567716\n",
            "\n",
            "Epoch:    4/20    Loss: 3.929369077682495\n",
            "\n",
            "Epoch:    4/20    Loss: 3.9309189422130584\n",
            "\n",
            "Epoch:    5/20    Loss: 3.8753532513317692\n",
            "\n",
            "Epoch:    5/20    Loss: 3.8576457028388975\n",
            "\n",
            "Epoch:    5/20    Loss: 3.840539822101593\n",
            "\n",
            "Epoch:    5/20    Loss: 3.8715237782001495\n",
            "\n",
            "Epoch:    5/20    Loss: 3.879979100227356\n",
            "\n",
            "Epoch:    5/20    Loss: 3.8799040660858153\n",
            "\n",
            "Epoch:    6/20    Loss: 3.8313713097947693\n",
            "\n",
            "Epoch:    6/20    Loss: 3.794940857410431\n",
            "\n",
            "Epoch:    6/20    Loss: 3.81527081990242\n",
            "\n",
            "Epoch:    6/20    Loss: 3.81635095000267\n",
            "\n",
            "Epoch:    6/20    Loss: 3.8182936024665834\n",
            "\n",
            "Epoch:    6/20    Loss: 3.8436834025382995\n",
            "\n",
            "Epoch:    7/20    Loss: 3.7804039458201704\n",
            "\n",
            "Epoch:    7/20    Loss: 3.7536907420158387\n",
            "\n",
            "Epoch:    7/20    Loss: 3.7740155322551727\n",
            "\n",
            "Epoch:    7/20    Loss: 3.78959427189827\n",
            "\n",
            "Epoch:    7/20    Loss: 3.787255676269531\n",
            "\n",
            "Epoch:    7/20    Loss: 3.810141053199768\n",
            "\n",
            "Epoch:    8/20    Loss: 3.755093010504758\n",
            "\n",
            "Epoch:    8/20    Loss: 3.7428975956439974\n",
            "\n",
            "Epoch:    8/20    Loss: 3.747992592096329\n",
            "\n",
            "Epoch:    8/20    Loss: 3.7532307562828064\n",
            "\n",
            "Epoch:    8/20    Loss: 3.757123740673065\n",
            "\n",
            "Epoch:    8/20    Loss: 3.7685008749961852\n",
            "\n",
            "Epoch:    9/20    Loss: 3.7322324393908346\n",
            "\n",
            "Epoch:    9/20    Loss: 3.694503284692764\n",
            "\n",
            "Epoch:    9/20    Loss: 3.7201135799884795\n",
            "\n",
            "Epoch:    9/20    Loss: 3.720726180553436\n",
            "\n",
            "Epoch:    9/20    Loss: 3.7365308816432954\n",
            "\n",
            "Epoch:    9/20    Loss: 3.750857106208801\n",
            "\n",
            "Epoch:   10/20    Loss: 3.7124880642501035\n",
            "\n",
            "Epoch:   10/20    Loss: 3.666793473958969\n",
            "\n",
            "Epoch:   10/20    Loss: 3.696832859277725\n",
            "\n",
            "Epoch:   10/20    Loss: 3.7003894891738893\n",
            "\n",
            "Epoch:   10/20    Loss: 3.7166578612327577\n",
            "\n",
            "Epoch:   10/20    Loss: 3.7209971508979796\n",
            "\n",
            "Epoch:   11/20    Loss: 3.6841345533251824\n",
            "\n",
            "Epoch:   11/20    Loss: 3.65449401140213\n",
            "\n",
            "Epoch:   11/20    Loss: 3.6724249320030213\n",
            "\n",
            "Epoch:   11/20    Loss: 3.6709477453231814\n",
            "\n",
            "Epoch:   11/20    Loss: 3.7011940462589266\n",
            "\n",
            "Epoch:   11/20    Loss: 3.708916064739227\n",
            "\n",
            "Epoch:   12/20    Loss: 3.6681628238131636\n",
            "\n",
            "Epoch:   12/20    Loss: 3.637817727804184\n",
            "\n",
            "Epoch:   12/20    Loss: 3.648632831573486\n",
            "\n",
            "Epoch:   12/20    Loss: 3.6587250599861143\n",
            "\n",
            "Epoch:   12/20    Loss: 3.675393635034561\n",
            "\n",
            "Epoch:   12/20    Loss: 3.6973053884506224\n",
            "\n",
            "Epoch:   13/20    Loss: 3.6480983004708047\n",
            "\n",
            "Epoch:   13/20    Loss: 3.6087297065258026\n",
            "\n",
            "Epoch:   13/20    Loss: 3.6291175310611723\n",
            "\n",
            "Epoch:   13/20    Loss: 3.6538281698226927\n",
            "\n",
            "Epoch:   13/20    Loss: 3.667971958398819\n",
            "\n",
            "Epoch:   13/20    Loss: 3.6680954825878143\n",
            "\n",
            "Epoch:   14/20    Loss: 3.623849373774337\n",
            "\n",
            "Epoch:   14/20    Loss: 3.5944134969711303\n",
            "\n",
            "Epoch:   14/20    Loss: 3.5988217911720275\n",
            "\n",
            "Epoch:   14/20    Loss: 3.651984563589096\n",
            "\n",
            "Epoch:   14/20    Loss: 3.650777800321579\n",
            "\n",
            "Epoch:   14/20    Loss: 3.6422590610980987\n",
            "\n",
            "Epoch:   15/20    Loss: 3.620629206231671\n",
            "\n",
            "Epoch:   15/20    Loss: 3.5746134486198424\n",
            "\n",
            "Epoch:   15/20    Loss: 3.609794729709625\n",
            "\n",
            "Epoch:   15/20    Loss: 3.6120233693122863\n",
            "\n",
            "Epoch:   15/20    Loss: 3.6169862751960755\n",
            "\n",
            "Epoch:   15/20    Loss: 3.6397492551803587\n",
            "\n",
            "Epoch:   16/20    Loss: 3.609282174166112\n",
            "\n",
            "Epoch:   16/20    Loss: 3.5583654139041903\n",
            "\n",
            "Epoch:   16/20    Loss: 3.5814325017929076\n",
            "\n",
            "Epoch:   16/20    Loss: 3.5994240589141846\n",
            "\n",
            "Epoch:   16/20    Loss: 3.619788420200348\n",
            "\n",
            "Epoch:   16/20    Loss: 3.6402725660800934\n",
            "\n",
            "Epoch:   17/20    Loss: 3.5900037232966153\n",
            "\n",
            "Epoch:   17/20    Loss: 3.556477968931198\n",
            "\n",
            "Epoch:   17/20    Loss: 3.578408103466034\n",
            "\n",
            "Epoch:   17/20    Loss: 3.589344219446182\n",
            "\n",
            "Epoch:   17/20    Loss: 3.59622686123848\n",
            "\n",
            "Epoch:   17/20    Loss: 3.607964596748352\n",
            "\n",
            "Epoch:   18/20    Loss: 3.5741038909716436\n",
            "\n",
            "Epoch:   18/20    Loss: 3.5504065926074984\n",
            "\n",
            "Epoch:   18/20    Loss: 3.56796724152565\n",
            "\n",
            "Epoch:   18/20    Loss: 3.578631671667099\n",
            "\n",
            "Epoch:   18/20    Loss: 3.6097069375514983\n",
            "\n",
            "Epoch:   19/20    Loss: 3.5603581776529354\n",
            "\n",
            "Epoch:   19/20    Loss: 3.5289548370838166\n",
            "\n",
            "Epoch:   19/20    Loss: 3.548261795282364\n",
            "\n",
            "Epoch:   19/20    Loss: 3.56901895737648\n",
            "\n",
            "Epoch:   19/20    Loss: 3.564756514072418\n",
            "\n",
            "Epoch:   19/20    Loss: 3.6010080847740173\n",
            "\n",
            "Epoch:   20/20    Loss: 3.5547916592529667\n",
            "\n",
            "Epoch:   20/20    Loss: 3.5280861580371856\n",
            "\n",
            "Epoch:   20/20    Loss: 3.5322440481185913\n",
            "\n",
            "Epoch:   20/20    Loss: 3.5576461248397826\n",
            "\n",
            "Epoch:   20/20    Loss: 3.567812214374542\n",
            "\n",
            "Epoch:   20/20    Loss: 3.5753057358264924\n",
            "\n",
            "Model Trained and Saved\n"
          ],
          "name": "stdout"
        },
        {
          "output_type": "stream",
          "text": [
            "/usr/local/lib/python3.6/dist-packages/torch/serialization.py:251: UserWarning: Couldn't retrieve source code for container of type RNN. It won't be checked for correctness upon loading.\n",
            "  \"type \" + obj.__name__ + \". It won't be checked \"\n"
          ],
          "name": "stderr"
        }
      ]
    },
    {
      "metadata": {
        "id": "DgQHS4rMMgC-",
        "colab_type": "text"
      },
      "cell_type": "markdown",
      "source": [
        "### Question: How did you decide on your model hyperparameters? \n",
        "For example, did you try different sequence_lengths and find that one size made the model converge faster? What about your hidden_dim and n_layers; how did you decide on those?"
      ]
    },
    {
      "metadata": {
        "id": "iNlSwuIzMgC_",
        "colab_type": "text"
      },
      "cell_type": "markdown",
      "source": [
        "**Answer:** (Write answer, here)"
      ]
    },
    {
      "metadata": {
        "id": "eYS49o7hMgDA",
        "colab_type": "text"
      },
      "cell_type": "markdown",
      "source": [
        "---\n",
        "# Checkpoint\n",
        "\n",
        "After running the above training cell, your model will be saved by name, `trained_rnn`, and if you save your notebook progress, **you can pause here and come back to this code at another time**. You can resume your progress by running the next cell, which will load in our word:id dictionaries _and_ load in your saved model by name!"
      ]
    },
    {
      "metadata": {
        "id": "Oq-_9kwQMgDA",
        "colab_type": "code",
        "colab": {}
      },
      "cell_type": "code",
      "source": [
        "\"\"\"\n",
        "DON'T MODIFY ANYTHING IN THIS CELL\n",
        "\"\"\"\n",
        "import torch\n",
        "import helper\n",
        "import problem_unittests as tests\n",
        "\n",
        "_, vocab_to_int, int_to_vocab, token_dict = helper.load_preprocess()\n",
        "trained_rnn = helper.load_model('./save/trained_rnn')"
      ],
      "execution_count": 0,
      "outputs": []
    },
    {
      "metadata": {
        "id": "O0woF8G7MgDG",
        "colab_type": "text"
      },
      "cell_type": "markdown",
      "source": [
        "## Generate TV Script\n",
        "With the network trained and saved, you'll use it to generate a new, \"fake\" Seinfeld TV script in this section.\n",
        "\n",
        "### Generate Text\n",
        "To generate the text, the network needs to start with a single word and repeat its predictions until it reaches a set length. You'll be using the `generate` function to do this. It takes a word id to start with, `prime_id`, and generates a set length of text, `predict_len`. Also note that it uses topk sampling to introduce some randomness in choosing the most likely next word, given an output set of word scores!"
      ]
    },
    {
      "metadata": {
        "id": "_QJmIRGoMgDH",
        "colab_type": "code",
        "colab": {}
      },
      "cell_type": "code",
      "source": [
        "\"\"\"\n",
        "DON'T MODIFY ANYTHING IN THIS CELL THAT IS BELOW THIS LINE\n",
        "\"\"\"\n",
        "import torch.nn.functional as F\n",
        "\n",
        "def generate(rnn, prime_id, int_to_vocab, token_dict, pad_value, predict_len=100):\n",
        "    \"\"\"\n",
        "    Generate text using the neural network\n",
        "    :param decoder: The PyTorch Module that holds the trained neural network\n",
        "    :param prime_id: The word id to start the first prediction\n",
        "    :param int_to_vocab: Dict of word id keys to word values\n",
        "    :param token_dict: Dict of puncuation tokens keys to puncuation values\n",
        "    :param pad_value: The value used to pad a sequence\n",
        "    :param predict_len: The length of text to generate\n",
        "    :return: The generated text\n",
        "    \"\"\"\n",
        "    rnn.eval()\n",
        "    \n",
        "    # create a sequence (batch_size=1) with the prime_id\n",
        "    current_seq = np.full((1, sequence_length), pad_value)\n",
        "    current_seq[-1][-1] = prime_id\n",
        "    predicted = [int_to_vocab[prime_id]]\n",
        "    \n",
        "    for _ in range(predict_len):\n",
        "        if train_on_gpu:\n",
        "            current_seq = torch.LongTensor(current_seq).cuda()\n",
        "        else:\n",
        "            current_seq = torch.LongTensor(current_seq)\n",
        "        \n",
        "        # initialize the hidden state\n",
        "        hidden = rnn.init_hidden(current_seq.size(0))\n",
        "        \n",
        "        # get the output of the rnn\n",
        "        output, _ = rnn(current_seq, hidden)\n",
        "        \n",
        "        # get the next word probabilities\n",
        "        p = F.softmax(output, dim=1).data\n",
        "        if(train_on_gpu):\n",
        "            p = p.cpu() # move to cpu\n",
        "         \n",
        "        # use top_k sampling to get the index of the next word\n",
        "        top_k = 5\n",
        "        p, top_i = p.topk(top_k)\n",
        "        top_i = top_i.numpy().squeeze()\n",
        "        \n",
        "        # select the likely next word index with some element of randomness\n",
        "        p = p.numpy().squeeze()\n",
        "        word_i = np.random.choice(top_i, p=p/p.sum())\n",
        "        \n",
        "        # retrieve that word from the dictionary\n",
        "        word = int_to_vocab[word_i]\n",
        "        predicted.append(word)     \n",
        "        \n",
        "        # the generated word becomes the next \"current sequence\" and the cycle can continue\n",
        "        current_seq = np.roll(current_seq.cpu(), -1, 1)\n",
        "        current_seq[-1][-1] = word_i\n",
        "    \n",
        "    gen_sentences = ' '.join(predicted)\n",
        "    \n",
        "    # Replace punctuation tokens\n",
        "    for key, token in token_dict.items():\n",
        "        ending = ' ' if key in ['\\n', '(', '\"'] else ''\n",
        "        gen_sentences = gen_sentences.replace(' ' + token.lower(), key)\n",
        "    gen_sentences = gen_sentences.replace('\\n ', '\\n')\n",
        "    gen_sentences = gen_sentences.replace('( ', '(')\n",
        "    \n",
        "    # return all the sentences\n",
        "    return gen_sentences"
      ],
      "execution_count": 0,
      "outputs": []
    },
    {
      "metadata": {
        "id": "cKh6cOphMgDJ",
        "colab_type": "text"
      },
      "cell_type": "markdown",
      "source": [
        "### Generate a New Script\n",
        "It's time to generate the text. Set `gen_length` to the length of TV script you want to generate and set `prime_word` to one of the following to start the prediction:\n",
        "- \"jerry\"\n",
        "- \"elaine\"\n",
        "- \"george\"\n",
        "- \"kramer\"\n",
        "\n",
        "You can set the prime word to _any word_ in our dictionary, but it's best to start with a name for generating a TV script. (You can also start with any other names you find in the original text file!)"
      ]
    },
    {
      "metadata": {
        "id": "SaPviQGiMgDK",
        "colab_type": "code",
        "outputId": "82646a04-2146-46e5-b6a5-f5a278d33bf6",
        "colab": {
          "base_uri": "https://localhost:8080/",
          "height": 986
        }
      },
      "cell_type": "code",
      "source": [
        "# run the cell multiple times to get different results!\n",
        "gen_length = 400 # modify the length to your preference\n",
        "prime_word = 'jerry' # name for starting the script\n",
        "\n",
        "\"\"\"\n",
        "DON'T MODIFY ANYTHING IN THIS CELL THAT IS BELOW THIS LINE\n",
        "\"\"\"\n",
        "pad_word = helper.SPECIAL_WORDS['PADDING']\n",
        "generated_script = generate(trained_rnn, vocab_to_int[prime_word + ':'], int_to_vocab, token_dict, vocab_to_int[pad_word], gen_length)\n",
        "print(generated_script)"
      ],
      "execution_count": 35,
      "outputs": [
        {
          "output_type": "stream",
          "text": [
            "jerry:\n",
            "\n",
            "jerry: i don't think you can get it.\n",
            "\n",
            "jerry: oh, i got a good job.\n",
            "\n",
            "jerry: you know.\n",
            "\n",
            "jerry: well, i don't have to get the hell up there, and the guy is in the middle of the same way i am.\n",
            "\n",
            "jerry:(pointing) oh...(to jerry, he turns and looks like the phone and the same. he doesn't even have a job.\n",
            "\n",
            "jerry: you don't have to be a very good person.\n",
            "\n",
            "jerry:(looking at the counter) oh, my friend...\n",
            "\n",
            "george:(to jerry) hey.\n",
            "\n",
            "jerry: hey.\n",
            "\n",
            "kramer: hey, hey, you know... i just got a big problem.\n",
            "\n",
            "kramer: i know what i want.\n",
            "\n",
            "jerry: well, i don't think so. i just wanted to be here.\n",
            "\n",
            "george: you know..... i was wondering if you don't have to.\n",
            "\n",
            "jerry: well i don't want to see that.\n",
            "\n",
            "kramer:(to jerry) hey, hey, hey, you know how. you know i think you should have been the only one who was in a few years.\n",
            "\n",
            "jerry: i thought i didn't do anything.\n",
            "\n",
            "jerry: what?\n",
            "\n",
            "elaine: well, i don't know, you know, you know, if you want to be a little more.\n",
            "\n",
            "jerry: oh, well, i don't like it...\n",
            "\n",
            "jerry: i know.\n",
            "\n",
            "george: well, i'm not really going to be a little bit like you and me.\n",
            "\n",
            "kramer: i don't know what the big deal is.\n",
            "\n",
            "george:(to the intercom) hello, mr. costanza.\n",
            "\n",
            "jerry: oh, well, that's not a good idea.\n",
            "\n",
            "george: you think i can get a little more of the guy.\n",
            "\n",
            "jerry: i think i can have it.\n",
            "\n",
            "jerry: oh, yeah.\n",
            "\n",
            "kramer: hey, you know i just\n"
          ],
          "name": "stdout"
        }
      ]
    },
    {
      "metadata": {
        "id": "_EHLh2xRMgDM",
        "colab_type": "text"
      },
      "cell_type": "markdown",
      "source": [
        "#### Save your favorite scripts\n",
        "\n",
        "Once you have a script that you like (or find interesting), save it to a text file!"
      ]
    },
    {
      "metadata": {
        "id": "8yf5uLnxMgDN",
        "colab_type": "code",
        "colab": {}
      },
      "cell_type": "code",
      "source": [
        "# save script to a text file\n",
        "f =  open(\"generated_script_1.txt\",\"w\")\n",
        "f.write(generated_script)\n",
        "f.close()"
      ],
      "execution_count": 0,
      "outputs": []
    },
    {
      "metadata": {
        "id": "lHDBX38EMgDP",
        "colab_type": "text"
      },
      "cell_type": "markdown",
      "source": [
        "# The TV Script is Not Perfect\n",
        "It's ok if the TV script doesn't make perfect sense. It should look like alternating lines of dialogue, here is one such example of a few generated lines.\n",
        "\n",
        "### Example generated script\n",
        "\n",
        ">jerry: what about me?\n",
        ">\n",
        ">jerry: i don't have to wait.\n",
        ">\n",
        ">kramer:(to the sales table)\n",
        ">\n",
        ">elaine:(to jerry) hey, look at this, i'm a good doctor.\n",
        ">\n",
        ">newman:(to elaine) you think i have no idea of this...\n",
        ">\n",
        ">elaine: oh, you better take the phone, and he was a little nervous.\n",
        ">\n",
        ">kramer:(to the phone) hey, hey, jerry, i don't want to be a little bit.(to kramer and jerry) you can't.\n",
        ">\n",
        ">jerry: oh, yeah. i don't even know, i know.\n",
        ">\n",
        ">jerry:(to the phone) oh, i know.\n",
        ">\n",
        ">kramer:(laughing) you know...(to jerry) you don't know.\n",
        "\n",
        "You can see that there are multiple characters that say (somewhat) complete sentences, but it doesn't have to be perfect! It takes quite a while to get good results, and often, you'll have to use a smaller vocabulary (and discard uncommon words), or get more data.  The Seinfeld dataset is about 3.4 MB, which is big enough for our purposes; for script generation you'll want more than 1 MB of text, generally. \n",
        "\n",
        "# Submitting This Project\n",
        "When submitting this project, make sure to run all the cells before saving the notebook. Save the notebook file as \"dlnd_tv_script_generation.ipynb\" and save another copy as an HTML file by clicking \"File\" -> \"Download as..\"->\"html\". Include the \"helper.py\" and \"problem_unittests.py\" files in your submission. Once you download these files, compress them into one zip file for submission."
      ]
    },
    {
      "metadata": {
        "id": "W6Ul32VdMgDP",
        "colab_type": "code",
        "colab": {}
      },
      "cell_type": "code",
      "source": [
        ""
      ],
      "execution_count": 0,
      "outputs": []
    }
  ]
}